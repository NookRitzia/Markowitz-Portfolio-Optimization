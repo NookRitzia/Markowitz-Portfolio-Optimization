{
 "cells": [
  {
   "cell_type": "markdown",
   "id": "b0a8e1d1-c3d0-4e2e-b0b6-6905df2da3ff",
   "metadata": {},
   "source": [
    "## The following securities are included in the Markowitz Portfolio Optimization:\n",
    "#### XLK, XLF, XLV, XLY, XLP, XLE, XLU, XLI, VNQ"
   ]
  },
  {
   "cell_type": "code",
   "execution_count": 1,
   "id": "173b1f11-71f4-4209-9a14-dcda3f074f9c",
   "metadata": {},
   "outputs": [],
   "source": [
    "etfs = ['XLK','XLF', 'XLV', 'XLY', 'XLP', 'XLE', 'XLU', 'XLI', 'VNQ']"
   ]
  },
  {
   "cell_type": "markdown",
   "id": "fe42e9f5-da71-4109-b7cf-802bb307d603",
   "metadata": {},
   "source": [
    "## Collect security data from yfinance for a period of **10 Years**\n",
    "##### *this is only done if data is not already pickled*\n",
    "> You may refresh the data by deleting the security_data.pkl file"
   ]
  },
  {
   "cell_type": "code",
   "execution_count": 2,
   "id": "96031056-5d8d-4ba9-b5f5-6ea9ff40cacd",
   "metadata": {},
   "outputs": [],
   "source": [
    "import os\n",
    "import pickle\n",
    "import yfinance as yf\n",
    "security_data = None\n",
    "if 'security_data.pkl' not in os.listdir():\n",
    "    security_data = {etf: yf.Ticker(etf).history(period='10y') for etf in etfs}\n",
    "    pickle.dump(security_data, open('security_data.pkl', 'wb+'))\n",
    "else:\n",
    "    security_data = pickle.load(open('security_data.pkl', 'rb'))"
   ]
  },
  {
   "cell_type": "markdown",
   "id": "0b0fa34a-9e2f-4796-8d9d-f69d5afc78d0",
   "metadata": {},
   "source": [
    "## Calculate returns and covariance matrix\n",
    ">$R_t = \\frac{p_t}{p_{t-1}} - 1$ where $p_t$ is the ***close*** price of a security at time t."
   ]
  },
  {
   "cell_type": "code",
   "execution_count": 15,
   "id": "ddd334cc-6d11-4199-871b-f5565e7c21a0",
   "metadata": {},
   "outputs": [],
   "source": [
    "import pandas as pd\n",
    "import numpy as np\n",
    "return_data = {}\n",
    "for etf in security_data:\n",
    "    price_stream = security_data[etf]['Close']\n",
    "    return_stream = [0]\n",
    "    for i in range(1, len(price_stream)):\n",
    "        return_stream.append(price_stream.iloc[i]/price_stream.iloc[i-1] - 1)\n",
    "    return_data[etf] = pd.DataFrame({'Date': security_data[etf].index, 'Returns': return_stream})\n",
    "\n",
    "returns_df = pd.DataFrame({etf: return_data[etf]['Returns'] for etf in return_data}) # returns dataframe where each security is a column vector;\n",
    "covariance_df = returns_df.cov() # covariance matrix! in dataframe format\n",
    "covariance_matrix = np.asmatrix(covariance_df)"
   ]
  },
  {
   "cell_type": "code",
   "execution_count": 16,
   "id": "8a412d1d-7b19-4df1-9a58-5c91bd638c4b",
   "metadata": {},
   "outputs": [
    {
     "data": {
      "text/plain": [
       "matrix([[2.15176453e-04, 1.38668256e-04, 1.09086021e-04, 1.65280817e-04,\n",
       "         8.15964433e-05, 1.25803395e-04, 7.63279085e-05, 1.34569220e-04,\n",
       "         1.14963567e-04],\n",
       "        [1.38668256e-04, 1.95373445e-04, 1.01853730e-04, 1.35829650e-04,\n",
       "         8.06378900e-05, 1.80558477e-04, 8.14172341e-05, 1.51486995e-04,\n",
       "         1.21109172e-04],\n",
       "        [1.09086021e-04, 1.01853730e-04, 1.11894375e-04, 9.31873494e-05,\n",
       "         6.96335932e-05, 9.41674412e-05, 7.19091026e-05, 9.44674976e-05,\n",
       "         8.80494607e-05],\n",
       "        [1.65280817e-04, 1.35829650e-04, 9.31873494e-05, 1.77460581e-04,\n",
       "         7.43623433e-05, 1.23274191e-04, 7.11083848e-05, 1.28472750e-04,\n",
       "         1.15291522e-04],\n",
       "        [8.15964433e-05, 8.06378900e-05, 6.96335932e-05, 7.43623433e-05,\n",
       "         8.53149651e-05, 7.25587538e-05, 7.95513022e-05, 7.71501425e-05,\n",
       "         8.26156650e-05],\n",
       "        [1.25803395e-04, 1.80558477e-04, 9.41674412e-05, 1.23274191e-04,\n",
       "         7.25587538e-05, 3.55563777e-04, 8.06558442e-05, 1.59837688e-04,\n",
       "         1.18307615e-04],\n",
       "        [7.63279085e-05, 8.14172341e-05, 7.19091026e-05, 7.11083848e-05,\n",
       "         7.95513022e-05, 8.06558442e-05, 1.47377096e-04, 8.15720158e-05,\n",
       "         1.15666295e-04],\n",
       "        [1.34569220e-04, 1.51486995e-04, 9.44674976e-05, 1.28472750e-04,\n",
       "         7.71501425e-05, 1.59837688e-04, 8.15720158e-05, 1.53213771e-04,\n",
       "         1.14518503e-04],\n",
       "        [1.14963567e-04, 1.21109172e-04, 8.80494607e-05, 1.15291522e-04,\n",
       "         8.26156650e-05, 1.18307615e-04, 1.15666295e-04, 1.14518503e-04,\n",
       "         1.71426250e-04]])"
      ]
     },
     "execution_count": 16,
     "metadata": {},
     "output_type": "execute_result"
    }
   ],
   "source": [
    "covariance_matrix"
   ]
  },
  {
   "cell_type": "code",
   "execution_count": null,
   "id": "5f6408f4-6520-4a3d-90be-355172eea616",
   "metadata": {},
   "outputs": [],
   "source": []
  },
  {
   "cell_type": "code",
   "execution_count": 92,
   "id": "8c31de1a-f7ae-4dce-9681-5f5996d0aa9c",
   "metadata": {},
   "outputs": [],
   "source": [
    "def backtest(returns_dict, weights_dict):\n",
    "    adjusted_returns_dict = {etf: returns_dict[etf].copy() for etf in returns_dict} # copy original returns dictionary\n",
    "    for etf in adjusted_returns_dict: # adjusted returns simply add 1 to the 'Returns' so that you can multiple all returns together to get the total returns\n",
    "        adjusted_returns_dict[etf]['Adjusted Returns'] = adjusted_returns_dict[etf]['Returns'] + 1\n",
    "    total_returns = 0\n",
    "    for etf in adjusted_returns_dict:\n",
    "        total_returns += weights_dict[etf] * adjusted_returns_dict[etf]['Adjusted Returns'].cumprod().iloc[-1]\n",
    "    return total_returns\n",
    "\n",
    "def negated_backtest_1_arg(weights_dict):\n",
    "    return -1 * backtest(return_data, weights_dict)\n",
    "\n",
    "def weights_constraint(x):\n",
    "    return numpy.asmatrix(x) @ np.ones(len(x),1) - 1\n",
    "\n",
    "def variance_constraint(x):\n",
    "    return numpy.asmatrix(x).T @ covariance_matrix @ numpy.asmatrix(x) - 0.05"
   ]
  },
  {
   "cell_type": "code",
   "execution_count": 93,
   "id": "4528a070-c3df-413e-8428-ad937a5f0e48",
   "metadata": {},
   "outputs": [
    {
     "data": {
      "text/plain": [
       "np.float64(-1.6538339702528866)"
      ]
     },
     "execution_count": 93,
     "metadata": {},
     "output_type": "execute_result"
    }
   ],
   "source": [
    "weights_dict = {etf: 0 for etf in return_data}\n",
    "weights_dict['XLE'] = 1\n",
    "backtest(return_data, weights_dict)\n",
    "negated_backtest_1_arg(weights_dict)"
   ]
  },
  {
   "cell_type": "code",
   "execution_count": 96,
   "id": "a5452cf4-686f-4030-b504-c5bb7c98dccf",
   "metadata": {},
   "outputs": [
    {
     "ename": "ModuleNotFoundError",
     "evalue": "No module named 'scipy'",
     "output_type": "error",
     "traceback": [
      "\u001b[1;31m---------------------------------------------------------------------------\u001b[0m",
      "\u001b[1;31mModuleNotFoundError\u001b[0m                       Traceback (most recent call last)",
      "Cell \u001b[1;32mIn[96], line 1\u001b[0m\n\u001b[1;32m----> 1\u001b[0m \u001b[38;5;28;01mimport\u001b[39;00m \u001b[38;5;21;01mscipy\u001b[39;00m\n\u001b[0;32m      2\u001b[0m \u001b[38;5;28;01mfrom\u001b[39;00m \u001b[38;5;21;01mscipy\u001b[39;00m\u001b[38;5;21;01m.\u001b[39;00m\u001b[38;5;21;01moptimize\u001b[39;00m \u001b[38;5;28;01mimport\u001b[39;00m minimize\n\u001b[0;32m      4\u001b[0m x0 \u001b[38;5;241m=\u001b[39m [\u001b[38;5;241m1\u001b[39m\u001b[38;5;241m/\u001b[39m\u001b[38;5;28mlen\u001b[39m(return_data) \u001b[38;5;28;01mfor\u001b[39;00m etf \u001b[38;5;129;01min\u001b[39;00m return_data]\n",
      "\u001b[1;31mModuleNotFoundError\u001b[0m: No module named 'scipy'"
     ]
    }
   ],
   "source": [
    "import scipy\n",
    "from scipy.optimize import minimize\n",
    "\n",
    "x0 = [1/len(return_data) for etf in return_data]\n",
    "constraints = [{'type': 'eq', 'fun': weights_constraint}, {'type': 'ineq', 'fun': variance_constraint}]\n",
    "bounds = [(0,1) for etf in return_data]\n",
    "optimal_weights = scipy.optimize.minimize(negated_backtest_1_arg, x0, bounds=bounds, constraints=constraints)"
   ]
  },
  {
   "cell_type": "code",
   "execution_count": null,
   "id": "d7d87889-b1ad-4ebf-9f81-b747e0d713db",
   "metadata": {},
   "outputs": [],
   "source": []
  }
 ],
 "metadata": {
  "kernelspec": {
   "display_name": "Python 3 (ipykernel)",
   "language": "python",
   "name": "python3"
  },
  "language_info": {
   "codemirror_mode": {
    "name": "ipython",
    "version": 3
   },
   "file_extension": ".py",
   "mimetype": "text/x-python",
   "name": "python",
   "nbconvert_exporter": "python",
   "pygments_lexer": "ipython3",
   "version": "3.11.9"
  }
 },
 "nbformat": 4,
 "nbformat_minor": 5
}
